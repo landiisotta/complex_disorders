{
 "cells": [
  {
   "cell_type": "code",
   "execution_count": 40,
   "metadata": {},
   "outputs": [],
   "source": [
    "import os\n",
    "import csv"
   ]
  },
  {
   "cell_type": "code",
   "execution_count": 41,
   "metadata": {},
   "outputs": [],
   "source": [
    "folder_names = ['adhd', 'autism', 'developmental_disorders', 'epilepsy', 'mental_retardation', 'gi']\n",
    "date_time_folder = '2018-10-21'"
   ]
  },
  {
   "cell_type": "code",
   "execution_count": 42,
   "metadata": {},
   "outputs": [],
   "source": [
    "mrns = {}\n",
    "for idx, f_name in enumerate(folder_names):\n",
    "    data_folder = os.path.expanduser('~/data1/complex_disorders/data/%s/cohorts/' % f_name)\n",
    "    dt_name = list(filter(lambda x: x.startswith(date_time_folder), os.listdir(data_folder)))[0]\n",
    "    with open(os.path.join(data_folder, dt_name, 'cohort-ehr.csv')) as f:\n",
    "        rd = csv.reader(f)\n",
    "        mrns[f_name] = set()\n",
    "        next(rd)\n",
    "        for r in rd:\n",
    "            mrns[f_name].add(r[0])"
   ]
  },
  {
   "cell_type": "code",
   "execution_count": 43,
   "metadata": {},
   "outputs": [
    {
     "name": "stdout",
     "output_type": "stream",
     "text": [
      "N patients with adhd: 6029\n",
      "Common patients between adhd and autism is 159\n",
      "Common patients between adhd and developmental_disorders is 83\n",
      "Common patients between adhd and epilepsy is 127\n",
      "Common patients between adhd and mental_retardation is 104\n",
      "Common patients between adhd and gi is 311\n",
      "N patients with autism: 1035\n",
      "Common patients between autism and developmental_disorders is 166\n",
      "Common patients between autism and epilepsy is 104\n",
      "Common patients between autism and mental_retardation is 139\n",
      "Common patients between autism and gi is 71\n",
      "N patients with developmental_disorders: 386\n",
      "Common patients between developmental_disorders and epilepsy is 31\n",
      "Common patients between developmental_disorders and mental_retardation is 27\n",
      "Common patients between developmental_disorders and gi is 39\n",
      "N patients with epilepsy: 5611\n",
      "Common patients between epilepsy and mental_retardation is 388\n",
      "Common patients between epilepsy and gi is 957\n",
      "N patients with mental_retardation: 1461\n",
      "Common patients between mental_retardation and gi is 238\n",
      "N patients with gi: 49207\n"
     ]
    }
   ],
   "source": [
    "for idx, d in enumerate(folder_names):\n",
    "    print('N patients with {0}: {1}'.format(d, len(mrns[d])))\n",
    "    for i in range(idx+1, len(folder_names)):\n",
    "        print('Common patients between {0} and {1} is {2}'.format(d, folder_names[i], len(mrns[d] & mrns[folder_names[i]])))"
   ]
  },
  {
   "cell_type": "code",
   "execution_count": 78,
   "metadata": {},
   "outputs": [
    {
     "name": "stdout",
     "output_type": "stream",
     "text": [
      "Cohort: 61147\n"
     ]
    }
   ],
   "source": [
    "print(\"Cohort: {0}\".format(len(set(mrn for el in mrns for mrn in mrns[el]))))"
   ]
  }
 ],
 "metadata": {
  "kernelspec": {
   "display_name": "Python 3",
   "language": "python",
   "name": "python3"
  },
  "language_info": {
   "codemirror_mode": {
    "name": "ipython",
    "version": 3
   },
   "file_extension": ".py",
   "mimetype": "text/x-python",
   "name": "python",
   "nbconvert_exporter": "python",
   "pygments_lexer": "ipython3",
   "version": "3.5.2"
  }
 },
 "nbformat": 4,
 "nbformat_minor": 2
}
