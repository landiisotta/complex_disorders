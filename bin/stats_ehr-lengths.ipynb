{
 "cells": [
  {
   "cell_type": "code",
   "execution_count": 2,
   "metadata": {},
   "outputs": [],
   "source": [
    "import os\n",
    "import csv\n",
    "import numpy as np\n",
    "import matplotlib\n",
    "import matplotlib.pyplot as plt\n",
    "%matplotlib inline"
   ]
  },
  {
   "cell_type": "code",
   "execution_count": 3,
   "metadata": {},
   "outputs": [],
   "source": [
    "len_min = 3"
   ]
  },
  {
   "cell_type": "code",
   "execution_count": 4,
   "metadata": {},
   "outputs": [],
   "source": [
    "disease = 'autism'\n",
    "file_name = 'ehr-shuffle.csv'\n",
    "date_time_folder = '2018-11-20-17-20-33' \n",
    "\n",
    "data_folder = os.path.expanduser('~/data1/complex_disorders/data/%s/cohorts/%s' % (disease, date_time_folder))\n",
    "\n",
    "with open(os.path.join(data_folder, file_name)) as f:\n",
    "    rd = csv.reader(f)\n",
    "    ehr_shuffle = {}\n",
    "    sub_len = []\n",
    "    for r in rd:\n",
    "        sub_len.append(len(r[1::]))\n",
    "        ehr_shuffle.setdefault(r[0], list()).extend(r[1::])"
   ]
  },
  {
   "cell_type": "code",
   "execution_count": 5,
   "metadata": {},
   "outputs": [
    {
     "name": "stdout",
     "output_type": "stream",
     "text": [
      "The average number of tokens for each time slot of N days is 5.29\n"
     ]
    }
   ],
   "source": [
    "print(\"The average number of tokens for each time slot of N days is {0:.2f}\".format(np.mean(sub_len)))"
   ]
  },
  {
   "cell_type": "code",
   "execution_count": 6,
   "metadata": {},
   "outputs": [
    {
     "data": {
      "text/plain": [
       "(array([1.9055e+04, 2.5220e+03, 5.2400e+02, 1.9500e+02, 8.5000e+01,\n",
       "        4.4000e+01, 2.3000e+01, 1.3000e+01, 4.0000e+00, 5.0000e+00]),\n",
       " array([ 1. ,  9.2, 17.4, 25.6, 33.8, 42. , 50.2, 58.4, 66.6, 74.8, 83. ]),\n",
       " <a list of 10 Patch objects>)"
      ]
     },
     "execution_count": 6,
     "metadata": {},
     "output_type": "execute_result"
    },
    {
     "data": {
      "image/png": "[encoded data removed]",
      "text/plain": [
       "<Figure size 432x288 with 1 Axes>"
      ]
     },
     "metadata": {},
     "output_type": "display_data"
    }
   ],
   "source": [
    "plt.hist(sub_len)"
   ]
  },
  {
   "cell_type": "code",
   "execution_count": 7,
   "metadata": {},
   "outputs": [
    {
     "name": "stdout",
     "output_type": "stream",
     "text": [
      "The average length of ehr sequences is: 99.11\n"
     ]
    }
   ],
   "source": [
    "l = []\n",
    "for mrn in ehr_shuffle:\n",
    "    l.append(len(ehr_shuffle[mrn]))\n",
    "print(\"The average length of ehr sequences is: {0:.2f}\".format(np.mean(l)))"
   ]
  },
  {
   "cell_type": "code",
   "execution_count": 8,
   "metadata": {},
   "outputs": [
    {
     "name": "stdout",
     "output_type": "stream",
     "text": [
      "60 of 1199 patients have less than 3 records\n"
     ]
    }
   ],
   "source": [
    "count = 0\n",
    "for ll in l:\n",
    "    if ll<3:\n",
    "        count += 1\n",
    "print(\"{0} of {1} patients have less than 3 records\".format(count, len(l)))"
   ]
  },
  {
   "cell_type": "code",
   "execution_count": 9,
   "metadata": {},
   "outputs": [
    {
     "name": "stdout",
     "output_type": "stream",
     "text": [
      "The sequence length ranges from 1 to 2274\n"
     ]
    }
   ],
   "source": [
    "print(\"The sequence length ranges from {0} to {1}\".format(min(l), max(l)))"
   ]
  },
  {
   "cell_type": "code",
   "execution_count": 10,
   "metadata": {},
   "outputs": [
    {
     "data": {
      "text/plain": [
       "(array([692., 204., 103.,  72.,  53.,  31.,  12.,   2.,  13.,   3.,   2.,\n",
       "          4.,   3.,   1.,   0.,   0.,   1.,   0.,   1.,   1.,   0.,   0.,\n",
       "          0.,   0.,   0.,   0.,   0.,   0.,   0.,   0.,   0.,   0.,   0.,\n",
       "          0.,   0.,   1.]),\n",
       " array([1.00000000e+00, 6.41388889e+01, 1.27277778e+02, 1.90416667e+02,\n",
       "        2.53555556e+02, 3.16694444e+02, 3.79833333e+02, 4.42972222e+02,\n",
       "        5.06111111e+02, 5.69250000e+02, 6.32388889e+02, 6.95527778e+02,\n",
       "        7.58666667e+02, 8.21805556e+02, 8.84944444e+02, 9.48083333e+02,\n",
       "        1.01122222e+03, 1.07436111e+03, 1.13750000e+03, 1.20063889e+03,\n",
       "        1.26377778e+03, 1.32691667e+03, 1.39005556e+03, 1.45319444e+03,\n",
       "        1.51633333e+03, 1.57947222e+03, 1.64261111e+03, 1.70575000e+03,\n",
       "        1.76888889e+03, 1.83202778e+03, 1.89516667e+03, 1.95830556e+03,\n",
       "        2.02144444e+03, 2.08458333e+03, 2.14772222e+03, 2.21086111e+03,\n",
       "        2.27400000e+03]),\n",
       " <a list of 36 Patch objects>)"
      ]
     },
     "execution_count": 10,
     "metadata": {},
     "output_type": "execute_result"
    },
    {
     "data": {
      "image/png": "[encoded data removed]",
      "text/plain": [
       "<Figure size 1440x720 with 1 Axes>"
      ]
     },
     "metadata": {},
     "output_type": "display_data"
    }
   ],
   "source": [
    "plt.figure(figsize=[20,10])\n",
    "plt.xticks(np.arange(0, max(l), 100))\n",
    "plt.hist(l, bins = 36)"
   ]
  },
  {
   "cell_type": "code",
   "execution_count": 11,
   "metadata": {},
   "outputs": [],
   "source": [
    "with open(os.path.join(data_folder, 'list_mrnToDrop.csv'), 'w') as f:\n",
    "    wr = csv.writer(f, delimiter=',')\n",
    "    discard_list = []\n",
    "    for mrn in ehr_shuffle:\n",
    "        if len(ehr_shuffle[mrn]) < len_min:\n",
    "            discard_list.append(mrn)\n",
    "    wr.writerow(discard_list)"
   ]
  },
  {
   "cell_type": "code",
   "execution_count": 12,
   "metadata": {},
   "outputs": [
    {
     "name": "stdout",
     "output_type": "stream",
     "text": [
      "We are dropping 60 out of 1199 patients\n"
     ]
    }
   ],
   "source": [
    "print(\"We are dropping {0} out of {1} patients\".format(len(discard_list), len(ehr_shuffle)))"
   ]
  },
  {
   "cell_type": "code",
   "execution_count": null,
   "metadata": {},
   "outputs": [],
   "source": []
  }
 ],
 "metadata": {
  "kernelspec": {
   "display_name": "Python 3",
   "language": "python",
   "name": "python3"
  },
  "language_info": {
   "codemirror_mode": {
    "name": "ipython",
    "version": 3
   },
   "file_extension": ".py",
   "mimetype": "text/x-python",
   "name": "python",
   "nbconvert_exporter": "python",
   "pygments_lexer": "ipython3",
   "version": "3.5.2"
  }
 },
 "nbformat": 4,
 "nbformat_minor": 2
}
