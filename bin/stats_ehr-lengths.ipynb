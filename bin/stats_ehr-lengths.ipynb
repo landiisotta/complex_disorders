{
 "cells": [
  {
   "cell_type": "code",
   "execution_count": 1,
   "metadata": {},
   "outputs": [],
   "source": [
    "import os\n",
    "import csv\n",
    "import numpy as np\n",
    "import matplotlib\n",
    "import matplotlib.pyplot as plt\n",
    "%matplotlib inline"
   ]
  },
  {
   "cell_type": "code",
   "execution_count": 2,
   "metadata": {},
   "outputs": [],
   "source": [
    "len_min = 3"
   ]
  },
  {
   "cell_type": "code",
   "execution_count": 3,
   "metadata": {},
   "outputs": [],
   "source": [
    "disease = 'multiple_myeloma'\n",
    "file_name = 'ehr-shuffle.csv'\n",
    "date_time_folder = '2018-10-10-16-44-0' \n",
    "\n",
    "data_folder = os.path.expanduser('~/data1/complex_disorders/data/%s/cohorts/%s' % (disease, date_time_folder))\n",
    "\n",
    "with open(os.path.join(data_folder, file_name)) as f:\n",
    "    rd = csv.reader(f)\n",
    "    ehr_shuffle = {}\n",
    "    sub_len = []\n",
    "    for r in rd:\n",
    "        sub_len.append(len(r[1::]))\n",
    "        ehr_shuffle.setdefault(r[0], list()).extend(r[1::])"
   ]
  },
  {
   "cell_type": "code",
   "execution_count": 4,
   "metadata": {},
   "outputs": [
    {
     "name": "stdout",
     "output_type": "stream",
     "text": [
      "The average number of tokens for each time slot of N days is 22.77\n"
     ]
    }
   ],
   "source": [
    "print(\"The average number of tokens for each time slot of N days is {0:.2f}\".format(np.mean(sub_len)))"
   ]
  },
  {
   "cell_type": "code",
   "execution_count": 5,
   "metadata": {},
   "outputs": [
    {
     "data": {
      "text/plain": [
       "(array([1.765e+04, 2.835e+03, 9.560e+02, 3.920e+02, 1.640e+02, 7.600e+01,\n",
       "        3.300e+01, 1.500e+01, 2.000e+00, 3.000e+00]),\n",
       " array([  1. ,  33.9,  66.8,  99.7, 132.6, 165.5, 198.4, 231.3, 264.2,\n",
       "        297.1, 330. ]),\n",
       " <a list of 10 Patch objects>)"
      ]
     },
     "execution_count": 5,
     "metadata": {},
     "output_type": "execute_result"
    },
    {
     "data": {
      "image/png": "[encoded data removed]",
      "text/plain": [
       "<Figure size 432x288 with 1 Axes>"
      ]
     },
     "metadata": {},
     "output_type": "display_data"
    }
   ],
   "source": [
    "plt.hist(sub_len)"
   ]
  },
  {
   "cell_type": "code",
   "execution_count": 6,
   "metadata": {},
   "outputs": [
    {
     "name": "stdout",
     "output_type": "stream",
     "text": [
      "The average length of ehr sequences is: 57.65\n"
     ]
    }
   ],
   "source": [
    "l = []\n",
    "for mrn in ehr_shuffle:\n",
    "    l.append(len(ehr_shuffle[mrn]))\n",
    "print(\"The average length of ehr sequences is: {0:.2f}\".format(np.mean(l)))"
   ]
  },
  {
   "cell_type": "code",
   "execution_count": 7,
   "metadata": {},
   "outputs": [
    {
     "name": "stdout",
     "output_type": "stream",
     "text": [
      "569 of 8739 patients have less than 3 records\n"
     ]
    }
   ],
   "source": [
    "count = 0\n",
    "for ll in l:\n",
    "    if ll<3:\n",
    "        count += 1\n",
    "print(\"{0} of {1} patients have less than 3 records\".format(count, len(l)))"
   ]
  },
  {
   "cell_type": "code",
   "execution_count": 8,
   "metadata": {},
   "outputs": [
    {
     "name": "stdout",
     "output_type": "stream",
     "text": [
      "The sequence length ranges from 1 to 1405\n"
     ]
    }
   ],
   "source": [
    "print(\"The sequence length ranges from {0} to {1}\".format(min(l), max(l)))"
   ]
  },
  {
   "cell_type": "code",
   "execution_count": 9,
   "metadata": {},
   "outputs": [
    {
     "data": {
      "text/plain": [
       "(array([5.355e+03, 1.465e+03, 7.640e+02, 4.010e+02, 2.400e+02, 1.510e+02,\n",
       "        8.800e+01, 7.400e+01, 5.000e+01, 3.800e+01, 2.500e+01, 1.700e+01,\n",
       "        1.700e+01, 1.200e+01, 9.000e+00, 8.000e+00, 4.000e+00, 5.000e+00,\n",
       "        3.000e+00, 1.000e+00, 2.000e+00, 2.000e+00, 1.000e+00, 0.000e+00,\n",
       "        2.000e+00, 1.000e+00, 0.000e+00, 1.000e+00, 1.000e+00, 1.000e+00,\n",
       "        0.000e+00, 0.000e+00, 0.000e+00, 0.000e+00, 0.000e+00, 1.000e+00]),\n",
       " array([1.000e+00, 4.000e+01, 7.900e+01, 1.180e+02, 1.570e+02, 1.960e+02,\n",
       "        2.350e+02, 2.740e+02, 3.130e+02, 3.520e+02, 3.910e+02, 4.300e+02,\n",
       "        4.690e+02, 5.080e+02, 5.470e+02, 5.860e+02, 6.250e+02, 6.640e+02,\n",
       "        7.030e+02, 7.420e+02, 7.810e+02, 8.200e+02, 8.590e+02, 8.980e+02,\n",
       "        9.370e+02, 9.760e+02, 1.015e+03, 1.054e+03, 1.093e+03, 1.132e+03,\n",
       "        1.171e+03, 1.210e+03, 1.249e+03, 1.288e+03, 1.327e+03, 1.366e+03,\n",
       "        1.405e+03]),\n",
       " <a list of 36 Patch objects>)"
      ]
     },
     "execution_count": 9,
     "metadata": {},
     "output_type": "execute_result"
    },
    {
     "data": {
      "image/png": "[encoded data removed]",
      "text/plain": [
       "<Figure size 1440x720 with 1 Axes>"
      ]
     },
     "metadata": {},
     "output_type": "display_data"
    }
   ],
   "source": [
    "plt.figure(figsize=[20,10])\n",
    "plt.xticks(np.arange(0, max(l), 100))\n",
    "plt.hist(l, bins = 36)"
   ]
  },
  {
   "cell_type": "code",
   "execution_count": 10,
   "metadata": {},
   "outputs": [],
   "source": [
    "with open(os.path.join(data_folder, 'list_mrnToDrop.csv'), 'w') as f:\n",
    "    wr = csv.writer(f, delimiter=',')\n",
    "    discard_list = []\n",
    "    for mrn in ehr_shuffle:\n",
    "        if len(ehr_shuffle[mrn]) < len_min:\n",
    "            discard_list.append(mrn)\n",
    "    wr.writerow(discard_list)"
   ]
  },
  {
   "cell_type": "code",
   "execution_count": 11,
   "metadata": {},
   "outputs": [
    {
     "name": "stdout",
     "output_type": "stream",
     "text": [
      "We are dropping 569 out of 8739 patients\n"
     ]
    }
   ],
   "source": [
    "print(\"We are dropping {0} out of {1} patients\".format(len(discard_list), len(ehr_shuffle)))"
   ]
  },
  {
   "cell_type": "code",
   "execution_count": null,
   "metadata": {},
   "outputs": [],
   "source": []
  }
 ],
 "metadata": {
  "kernelspec": {
   "display_name": "Python 3",
   "language": "python",
   "name": "python3"
  },
  "language_info": {
   "codemirror_mode": {
    "name": "ipython",
    "version": 3
   },
   "file_extension": ".py",
   "mimetype": "text/x-python",
   "name": "python",
   "nbconvert_exporter": "python",
   "pygments_lexer": "ipython3",
   "version": "3.5.2"
  }
 },
 "nbformat": 4,
 "nbformat_minor": 2
}
