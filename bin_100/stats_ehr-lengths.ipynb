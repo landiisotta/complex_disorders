{
 "cells": [
  {
   "cell_type": "code",
   "execution_count": 1,
   "metadata": {},
   "outputs": [],
   "source": [
    "import os\n",
    "import csv\n",
    "import numpy as np\n",
    "import matplotlib\n",
    "import matplotlib.pyplot as plt\n",
    "%matplotlib inline"
   ]
  },
  {
   "cell_type": "code",
   "execution_count": 2,
   "metadata": {},
   "outputs": [],
   "source": [
    "len_min = 3"
   ]
  },
  {
   "cell_type": "code",
   "execution_count": 3,
   "metadata": {},
   "outputs": [],
   "source": [
    "disease = 'autism'\n",
    "file_name = 'ehr-shuffle.csv'\n",
    "date_time_folder = '2018-10-29-9-55-11' \n",
    "\n",
    "data_folder = os.path.expanduser('~/data1/complex_disorders/data/%s/cohorts/%s' % (disease, date_time_folder))\n",
    "\n",
    "with open(os.path.join(data_folder, file_name)) as f:\n",
    "    rd = csv.reader(f)\n",
    "    ehr_shuffle = {}\n",
    "    sub_len = []\n",
    "    for r in rd:\n",
    "        sub_len.append(len(r[1::]))\n",
    "        ehr_shuffle.setdefault(r[0], list()).extend(r[1::])"
   ]
  },
  {
   "cell_type": "code",
   "execution_count": 4,
   "metadata": {},
   "outputs": [
    {
     "name": "stdout",
     "output_type": "stream",
     "text": [
      "The average number of tokens for each time slot of N days is 6.29\n"
     ]
    }
   ],
   "source": [
    "print(\"The average number of tokens for each time slot of N days is {0:.2f}\".format(np.mean(sub_len)))"
   ]
  },
  {
   "cell_type": "code",
   "execution_count": 5,
   "metadata": {},
   "outputs": [
    {
     "data": {
      "text/plain": [
       "(array([2.72935e+05, 1.73830e+04, 5.30700e+03, 2.68800e+03, 1.33700e+03,\n",
       "        6.02000e+02, 2.83000e+02, 1.01000e+02, 2.00000e+01, 1.40000e+01]),\n",
       " array([  1. ,  14.8,  28.6,  42.4,  56.2,  70. ,  83.8,  97.6, 111.4,\n",
       "        125.2, 139. ]),\n",
       " <a list of 10 Patch objects>)"
      ]
     },
     "execution_count": 5,
     "metadata": {},
     "output_type": "execute_result"
    },
    {
     "data": {
      "image/png": "[encoded data removed]",
      "text/plain": [
       "<Figure size 432x288 with 1 Axes>"
      ]
     },
     "metadata": {},
     "output_type": "display_data"
    }
   ],
   "source": [
    "plt.hist(sub_len)"
   ]
  },
  {
   "cell_type": "code",
   "execution_count": 6,
   "metadata": {},
   "outputs": [
    {
     "name": "stdout",
     "output_type": "stream",
     "text": [
      "The average length of ehr sequences is: 105.99\n"
     ]
    }
   ],
   "source": [
    "l = []\n",
    "for mrn in ehr_shuffle:\n",
    "    l.append(len(ehr_shuffle[mrn]))\n",
    "print(\"The average length of ehr sequences is: {0:.2f}\".format(np.mean(l)))"
   ]
  },
  {
   "cell_type": "code",
   "execution_count": 7,
   "metadata": {},
   "outputs": [
    {
     "name": "stdout",
     "output_type": "stream",
     "text": [
      "852 of 17850 patients have less than 3 records\n"
     ]
    }
   ],
   "source": [
    "count = 0\n",
    "for ll in l:\n",
    "    if ll<3:\n",
    "        count += 1\n",
    "print(\"{0} of {1} patients have less than 3 records\".format(count, len(l)))"
   ]
  },
  {
   "cell_type": "code",
   "execution_count": 8,
   "metadata": {},
   "outputs": [
    {
     "name": "stdout",
     "output_type": "stream",
     "text": [
      "The sequence length ranges from 1 to 3582\n"
     ]
    }
   ],
   "source": [
    "print(\"The sequence length ranges from {0} to {1}\".format(min(l), max(l)))"
   ]
  },
  {
   "cell_type": "code",
   "execution_count": 14,
   "metadata": {},
   "outputs": [
    {
     "data": {
      "text/plain": [
       "(array([7.20280112e-01, 1.30924370e-01, 6.21288515e-02, 3.15406162e-02,\n",
       "        1.88235294e-02, 1.00840336e-02, 6.94677871e-03, 4.76190476e-03,\n",
       "        3.36134454e-03, 2.35294118e-03, 2.18487395e-03, 1.12044818e-03,\n",
       "        1.17647059e-03, 8.96358543e-04, 5.60224090e-04, 2.80112045e-04,\n",
       "        6.16246499e-04, 2.80112045e-04, 5.60224090e-04, 1.12044818e-04,\n",
       "        1.68067227e-04, 1.12044818e-04, 1.68067227e-04, 5.60224090e-05,\n",
       "        5.60224090e-05, 0.00000000e+00, 5.60224090e-05, 5.60224090e-05,\n",
       "        1.12044818e-04, 0.00000000e+00, 1.12044818e-04, 5.60224090e-05,\n",
       "        0.00000000e+00, 0.00000000e+00, 0.00000000e+00, 5.60224090e-05]),\n",
       " array([1.00000000e+00, 1.00472222e+02, 1.99944444e+02, 2.99416667e+02,\n",
       "        3.98888889e+02, 4.98361111e+02, 5.97833333e+02, 6.97305556e+02,\n",
       "        7.96777778e+02, 8.96250000e+02, 9.95722222e+02, 1.09519444e+03,\n",
       "        1.19466667e+03, 1.29413889e+03, 1.39361111e+03, 1.49308333e+03,\n",
       "        1.59255556e+03, 1.69202778e+03, 1.79150000e+03, 1.89097222e+03,\n",
       "        1.99044444e+03, 2.08991667e+03, 2.18938889e+03, 2.28886111e+03,\n",
       "        2.38833333e+03, 2.48780556e+03, 2.58727778e+03, 2.68675000e+03,\n",
       "        2.78622222e+03, 2.88569444e+03, 2.98516667e+03, 3.08463889e+03,\n",
       "        3.18411111e+03, 3.28358333e+03, 3.38305556e+03, 3.48252778e+03,\n",
       "        3.58200000e+03]),\n",
       " <a list of 36 Patch objects>)"
      ]
     },
     "execution_count": 14,
     "metadata": {},
     "output_type": "execute_result"
    },
    {
     "data": {
      "image/png": "[encoded data removed]",
      "text/plain": [
       "<Figure size 1440x720 with 1 Axes>"
      ]
     },
     "metadata": {},
     "output_type": "display_data"
    }
   ],
   "source": [
    "plt.figure(figsize=[20,10])\n",
    "plt.xticks(np.arange(0, max(l), 100))\n",
    "plt.hist(l, bins = 36, weights=np.ones(len(l))/len(l))"
   ]
  },
  {
   "cell_type": "code",
   "execution_count": 15,
   "metadata": {},
   "outputs": [],
   "source": [
    "with open(os.path.join(data_folder, 'list_mrnToDrop.csv'), 'w') as f:\n",
    "    wr = csv.writer(f, delimiter=',')\n",
    "    discard_list = []\n",
    "    for mrn in ehr_shuffle:\n",
    "        if len(ehr_shuffle[mrn]) < len_min:\n",
    "            discard_list.append(mrn)\n",
    "    wr.writerow(discard_list)"
   ]
  },
  {
   "cell_type": "code",
   "execution_count": 16,
   "metadata": {},
   "outputs": [
    {
     "name": "stdout",
     "output_type": "stream",
     "text": [
      "We are dropping 852 out of 17850 patients\n"
     ]
    }
   ],
   "source": [
    "print(\"We are dropping {0} out of {1} patients\".format(len(discard_list), len(ehr_shuffle)))"
   ]
  },
  {
   "cell_type": "code",
   "execution_count": null,
   "metadata": {},
   "outputs": [],
   "source": []
  }
 ],
 "metadata": {
  "kernelspec": {
   "display_name": "Python 3",
   "language": "python",
   "name": "python3"
  },
  "language_info": {
   "codemirror_mode": {
    "name": "ipython",
    "version": 3
   },
   "file_extension": ".py",
   "mimetype": "text/x-python",
   "name": "python",
   "nbconvert_exporter": "python",
   "pygments_lexer": "ipython3",
   "version": "3.5.2"
  }
 },
 "nbformat": 4,
 "nbformat_minor": 2
}
